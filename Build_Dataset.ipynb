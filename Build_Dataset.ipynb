{
  "nbformat": 4,
  "nbformat_minor": 0,
  "metadata": {
    "colab": {
      "name": "Build-Dataset.ipynb",
      "provenance": [],
      "collapsed_sections": [
        "lQX9uwuB5iga",
        "gwpdJVlnGxbM",
        "ome2PNffG6C-",
        "Kt4K8keos5tm",
        "876ZjwHnEwdf",
        "9N5llyH-w3qx",
        "FgWDHlgcNjb3",
        "VSgXoFor6hej",
        "qr5r_0GUTGvH"
      ],
      "include_colab_link": true
    },
    "kernelspec": {
      "display_name": "Python 3",
      "name": "python3"
    },
    "language_info": {
      "name": "python"
    }
  },
  "cells": [
    {
      "cell_type": "markdown",
      "metadata": {
        "id": "view-in-github",
        "colab_type": "text"
      },
      "source": [
        "<a href=\"https://colab.research.google.com/github/Cristina-Mercado/my-project/blob/master/Build_Dataset.ipynb\" target=\"_parent\"><img src=\"https://colab.research.google.com/assets/colab-badge.svg\" alt=\"Open In Colab\"/></a>"
      ]
    },
    {
      "cell_type": "markdown",
      "source": [
        "Código para estructurar y preparar el dataset de Daily Dialog mediante los tres formatos planteados (por pares de intervenciones, con historia con emociones y con historia sin emociones)."
      ],
      "metadata": {
        "id": "vrOlHTC-Sx0y"
      }
    },
    {
      "cell_type": "markdown",
      "metadata": {
        "id": "mMe49FbZTXCZ"
      },
      "source": [
        "Imports:"
      ]
    },
    {
      "cell_type": "code",
      "metadata": {
        "id": "A31NG5ckfz20"
      },
      "source": [
        "! pip install pandas"
      ],
      "execution_count": null,
      "outputs": []
    },
    {
      "cell_type": "code",
      "metadata": {
        "id": "R0TYbd-5fwgE"
      },
      "source": [
        "import pandas as pd\n",
        "from google.colab import drive\n",
        "from sklearn.model_selection import train_test_split"
      ],
      "execution_count": null,
      "outputs": []
    },
    {
      "cell_type": "markdown",
      "metadata": {
        "id": "6HsgY285TaDe"
      },
      "source": [
        "Acceso a los archivos en mi Drive Personal (cambiar el path hasta el sitio de descarga):"
      ]
    },
    {
      "cell_type": "code",
      "metadata": {
        "id": "lNdNp0OseH8K"
      },
      "source": [
        "drive.mount('/content/drive')\n",
        "%cd drive/MyDrive/ETSII/4_Cuarto/TFG/Colab_Notebooks"
      ],
      "execution_count": null,
      "outputs": []
    },
    {
      "cell_type": "code",
      "metadata": {
        "id": "XoQmd10mbuIR"
      },
      "source": [
        "!pip install datasets"
      ],
      "execution_count": null,
      "outputs": []
    },
    {
      "cell_type": "markdown",
      "metadata": {
        "id": "HyehucvPddf3"
      },
      "source": [
        "# Daily Dialog dataFrame"
      ]
    },
    {
      "cell_type": "code",
      "metadata": {
        "id": "5GFricvGePmH"
      },
      "source": [
        "DDMain = pd.read_csv('DAILYD_main.csv')  #skipinitialspace=True\n",
        "DDInfo = pd.read_csv('DAILYD_dialoginfo.csv')"
      ],
      "execution_count": null,
      "outputs": []
    },
    {
      "cell_type": "code",
      "metadata": {
        "id": "r87F4O-tlxIV"
      },
      "source": [
        "DDMain"
      ],
      "execution_count": null,
      "outputs": []
    },
    {
      "cell_type": "markdown",
      "metadata": {
        "id": "ax31M9DXjmXL"
      },
      "source": [
        "Adding 'emotion' column to Main dataFrame:"
      ]
    },
    {
      "cell_type": "code",
      "metadata": {
        "id": "OSDEY3UQhh8r"
      },
      "source": [
        "DDMain['emotion']=DDInfo['emotion']"
      ],
      "execution_count": null,
      "outputs": []
    },
    {
      "cell_type": "markdown",
      "metadata": {
        "id": "jAoG-R0E62oG"
      },
      "source": [
        "Adding a 'dialog' column to Main dataFrame:"
      ]
    },
    {
      "cell_type": "code",
      "metadata": {
        "id": "0txahLEMuZPA"
      },
      "source": [
        "length = DDMain[\"SEG\"].size"
      ],
      "execution_count": null,
      "outputs": []
    },
    {
      "cell_type": "code",
      "metadata": {
        "id": "m9TTQwAU2j7e"
      },
      "source": [
        "list=[]\n",
        "str=\"D\"\n",
        "for j in range (0, length):\n",
        "  for i in range (7,13):\n",
        "    str = str + DDMain['UID'][j:j+1][j][i]\n",
        "  list.append(str)\n",
        "  str=\"D\""
      ],
      "execution_count": null,
      "outputs": []
    },
    {
      "cell_type": "code",
      "metadata": {
        "id": "Gk6qQL0b4yud"
      },
      "source": [
        "DDMain['dialog']=list"
      ],
      "execution_count": null,
      "outputs": []
    },
    {
      "cell_type": "markdown",
      "metadata": {
        "id": "TtOdqMc07B69"
      },
      "source": [
        "Renaming 'SID' and 'SEG' columns:"
      ]
    },
    {
      "cell_type": "code",
      "metadata": {
        "id": "9ftiFg0E7roH"
      },
      "source": [
        "del DDMain['UID']"
      ],
      "execution_count": null,
      "outputs": []
    },
    {
      "cell_type": "code",
      "metadata": {
        "id": "lsQfWnBc5ESe"
      },
      "source": [
        "DDMain = DDMain.rename(columns={'SID':'speaker', 'SEG':'text'})"
      ],
      "execution_count": null,
      "outputs": []
    },
    {
      "cell_type": "code",
      "metadata": {
        "id": "Mbkv2X_-8CaU"
      },
      "source": [
        "DDMain"
      ],
      "execution_count": null,
      "outputs": []
    },
    {
      "cell_type": "code",
      "metadata": {
        "id": "WZFyX0Zc6d7j"
      },
      "source": [
        "DDMain['text'][5:15]"
      ],
      "execution_count": null,
      "outputs": []
    },
    {
      "cell_type": "markdown",
      "metadata": {
        "id": "lQX9uwuB5iga"
      },
      "source": [
        "## Build inputs"
      ]
    },
    {
      "cell_type": "markdown",
      "metadata": {
        "id": "gwpdJVlnGxbM"
      },
      "source": [
        "### Functions"
      ]
    },
    {
      "cell_type": "markdown",
      "source": [
        "Funciones:\n",
        "* build_inputs_pair: estructura el conjunto de datos por pares de intervenciones de la forma: <bos><etiqueta> *texto* <sep><etiqueta respuesta> *texto (respuesta)* <eos>\n",
        "* build_inputs_history: estructura el conjunto de datos incluyendo una historia de 3 intervenciones más una respuesta de la forma: <bos><etiqueta 1> *texto 1* <etiqueta 2> *texto 2* <etiqueta 3> *texto 3* <sep><etiqueta respuesta> *texto (respuesta)* <eos>\n",
        "* build_inputs_one_emotion: estructura el conjunto de datos incluyendo una historia de 3 intervenciones sin etiquetas más una respuesta con etiqueta, de la forma: <bos>*texto 1* *texto 2* *texto 3* <sep><etiqueta respuesta> *texto (respuesta)* <eos>"
      ],
      "metadata": {
        "id": "BMTL7ikiQdTa"
      }
    },
    {
      "cell_type": "code",
      "metadata": {
        "id": "yCuR0xdA5nr7"
      },
      "source": [
        "def build_inputs_pair(dialog, emotion, text):\n",
        "  global data\n",
        "  global prev_dialog\n",
        "  global i, k\n",
        "\n",
        "  # Si la anterior conversación tenía intervenciones impares\n",
        "  # Borramos la última intervención y comenzamos una nueva pareja\n",
        "  if k==1 and dialog!=prev_dialog:\n",
        "    data.pop()\n",
        "    k=0\n",
        "\n",
        "  # Inicio del par de intervenciones:\n",
        "  if k==0:\n",
        "    data.append('<bos>')\n",
        "    data[i] += emotion\n",
        "    data[i] += text + '<sep>'\n",
        "    k = 1\n",
        "    prev_dialog = dialog\n",
        "  # Respuesta:\n",
        "  else:\n",
        "      data[i] += emotion + text + '<|endoftext|>'\n",
        "      i += 1\n",
        "      k = 0\n",
        " "
      ],
      "execution_count": null,
      "outputs": []
    },
    {
      "cell_type": "code",
      "metadata": {
        "id": "MywG8aQXz8ti"
      },
      "source": [
        "def build_inputs_history(dialog, emotion, text):\n",
        "  global data\n",
        "  global prev_dialog\n",
        "  global i, k\n",
        "\n",
        "  if dialog == prev_dialog:\n",
        "    if k<3 and len((emotion + text + data[i]).split())<300: \n",
        "      data[i] = emotion + text + data[i]\n",
        "      k += 1\n",
        "    else:\n",
        "      data[i] = '<bos>' + data[i]\n",
        "      data.append('<eos>')\n",
        "      i += 1\n",
        "      data[i] = '<sep>' + emotion + text + data[i]\n",
        "      k = 0 \n",
        "  else:  \n",
        "    # Si no es la primera intervención\n",
        "    if i != -1:\n",
        "      data[i] = '<bos>' + data[i]\n",
        "      # Si la última vez se ha creado un input sin historia\n",
        "      if k == 0:\n",
        "        data.pop()\n",
        "        i -= 1 \n",
        "      data.append('<eos>') \n",
        "    i += 1 \n",
        "    prev_dialog = dialog\n",
        "    data[i] = '<sep>' + emotion + text + data[i]\n",
        "    k = 0 \n",
        "    "
      ],
      "execution_count": null,
      "outputs": []
    },
    {
      "cell_type": "code",
      "metadata": {
        "id": "GKXOiBZ0NyT6"
      },
      "source": [
        "def build_inputs_one_emotion(dialog, emotion, text):\n",
        "\n",
        "  global data\n",
        "  global prev_dialog\n",
        "  global i, k\n",
        "\n",
        "  if dialog == prev_dialog:\n",
        "    if k<3 and len((text + data[i]).split())<300: \n",
        "      data[i] = \" \" + text + data[i]\n",
        "      k += 1\n",
        "    else:\n",
        "      data[i] = '<bos>' + data[i]\n",
        "      data.append('<eos>')\n",
        "      i += 1\n",
        "      data[i] = '<sep>' + emotion + text + data[i]\n",
        "      k = 0 \n",
        "  else:  \n",
        "    # Si no es la primera intervención\n",
        "    if i != -1:\n",
        "      data[i] = '<bos>' + data[i]\n",
        "      # Si la última vez se ha creado un input sin historia\n",
        "      if k == 0:\n",
        "        data.pop()\n",
        "        i -= 1 \n",
        "      data.append('<eos>') \n",
        "    i += 1 \n",
        "    prev_dialog = dialog\n",
        "    data[i] = '<sep>' + emotion + text + data[i]\n",
        "    k = 0 "
      ],
      "execution_count": null,
      "outputs": []
    },
    {
      "cell_type": "markdown",
      "metadata": {
        "id": "ome2PNffG6C-"
      },
      "source": [
        "### Apply functions"
      ]
    },
    {
      "cell_type": "markdown",
      "source": [
        "Creación de listas con la estructura aplicada al conjunto y tranformación en dataFrame"
      ],
      "metadata": {
        "id": "lkyHCZFTRU-5"
      }
    },
    {
      "cell_type": "code",
      "metadata": {
        "id": "xqnAXCrL5vMB"
      },
      "source": [
        "data=[]\n",
        "i=0\n",
        "k=0\n",
        "length = len(DDMain['text'])\n",
        "\n",
        "for j in range(0,length):\n",
        "  dialog = DDMain['dialog'][j]\n",
        "  emotion = '<' + DDMain['emotion'][j] + '>'\n",
        "  text = DDMain['text'][j]\n",
        "  build_inputs_pair(dialog, emotion, text)"
      ],
      "execution_count": null,
      "outputs": []
    },
    {
      "cell_type": "code",
      "metadata": {
        "id": "dHxlQ9jI5-u5"
      },
      "source": [
        "MainDD_pairs_dict = {'text':data}\n",
        "MainDD_pairs = pd.DataFrame(MainDD_pairs_dict)"
      ],
      "execution_count": null,
      "outputs": []
    },
    {
      "cell_type": "code",
      "metadata": {
        "id": "5XLHO2SD1rl5"
      },
      "source": [
        "data=['<eos>']\n",
        "i=-1\n",
        "prev_dialog=0\n",
        "length = len(DDMain['text'])\n",
        "\n",
        "for j in range(length-1, -1, -1):\n",
        "  dialog = DDMain['dialog'][j]\n",
        "  emotion = '<' + DDMain['emotion'][j] + '>'\n",
        "  text = DDMain['text'][j]\n",
        "  build_inputs_history(dialog, emotion, text)\n",
        "\n",
        "data[i] = '<bos>' + data[i]"
      ],
      "execution_count": null,
      "outputs": []
    },
    {
      "cell_type": "code",
      "metadata": {
        "id": "2fqrI2XKHGU8"
      },
      "source": [
        "MainDD_history_dict = {'text':data}\n",
        "MainDD_history = pd.DataFrame(MainDD_history_dict)"
      ],
      "execution_count": null,
      "outputs": []
    },
    {
      "cell_type": "code",
      "metadata": {
        "id": "eiu9VyvMN0Wk"
      },
      "source": [
        "data=['<eos>']\n",
        "i=-1\n",
        "prev_dialog=0\n",
        "length = len(DDMain['text'])\n",
        "\n",
        "for j in range(length-1, -1, -1):\n",
        "  dialog = DDMain['dialog'][j]\n",
        "  emotion = '<' + DDMain['emotion'][j] + '>'\n",
        "  text = DDMain['text'][j]\n",
        "  build_inputs_one_emotion(dialog, emotion, text)\n",
        "\n",
        "data[i] = '<bos>' + data[i]"
      ],
      "execution_count": null,
      "outputs": []
    },
    {
      "cell_type": "code",
      "metadata": {
        "id": "So0tfL76HG-q"
      },
      "source": [
        "MainDD_oneEmo_dict= {'text':data}\n",
        "MainDD_oneEmo = pd.DataFrame(MainDD_oneEmo_dict)"
      ],
      "execution_count": null,
      "outputs": []
    },
    {
      "cell_type": "markdown",
      "metadata": {
        "id": "Kt4K8keos5tm"
      },
      "source": [
        "### Normalization"
      ]
    },
    {
      "cell_type": "markdown",
      "source": [
        "Homogeneización de símbolos y eliminación de espacios al inicio y final de las intervenciones."
      ],
      "metadata": {
        "id": "EgMaJQ8HRfix"
      }
    },
    {
      "cell_type": "code",
      "metadata": {
        "id": "Xwd5B-jMoLXT"
      },
      "source": [
        "MainDD_pairs['text'] = MainDD_pairs['text'].str.replace(' ’ ',\"'\")"
      ],
      "execution_count": null,
      "outputs": []
    },
    {
      "cell_type": "code",
      "metadata": {
        "id": "ysh9rxUdHtO0"
      },
      "source": [
        "MainDD_history['text'] = MainDD_history['text'].str.replace(' ’ ',\"'\")"
      ],
      "execution_count": null,
      "outputs": []
    },
    {
      "cell_type": "code",
      "metadata": {
        "id": "lfxCQ36xHtBQ"
      },
      "source": [
        "MainDD_oneEmo['text'] = MainDD_oneEmo['text'].str.replace(' ’ ',\"'\")"
      ],
      "execution_count": null,
      "outputs": []
    },
    {
      "cell_type": "code",
      "metadata": {
        "id": "s3RA3K4zqYWC"
      },
      "source": [
        "MainDD_pairs['text'] = MainDD_pairs['text'].str.replace('> ','>')\n",
        "MainDD_pairs['text'] = MainDD_pairs['text'].str.replace(' <','<')"
      ],
      "execution_count": null,
      "outputs": []
    },
    {
      "cell_type": "code",
      "metadata": {
        "id": "HxYtmehgHreE"
      },
      "source": [
        "MainDD_history['text'] = MainDD_history['text'].str.replace('> ','>')\n",
        "MainDD_history['text'] = MainDD_history['text'].str.replace(' <','<')"
      ],
      "execution_count": null,
      "outputs": []
    },
    {
      "cell_type": "code",
      "metadata": {
        "id": "v3ePrFIjHr7_"
      },
      "source": [
        "MainDD_oneEmo['text'] = MainDD_oneEmo['text'].str.replace('> ','>')\n",
        "MainDD_oneEmo['text'] = MainDD_oneEmo['text'].str.replace(' <','<')"
      ],
      "execution_count": null,
      "outputs": []
    },
    {
      "cell_type": "markdown",
      "metadata": {
        "id": "pZGoMOHNIy6x"
      },
      "source": [
        "### Shuffle"
      ]
    },
    {
      "cell_type": "code",
      "metadata": {
        "id": "yy2PoLCdIyQQ"
      },
      "source": [
        "# Mezcla:\n",
        "MainDD_pairs_shuffled = MainDD_pairs.sample(frac=1)\n",
        "# Reorganización de los índices:\n",
        "MainDD_pairs_shuffled.index = range(MainDD_pairs_shuffled.shape[0])"
      ],
      "execution_count": null,
      "outputs": []
    },
    {
      "cell_type": "markdown",
      "metadata": {
        "id": "876ZjwHnEwdf"
      },
      "source": [
        "### Smaller dataset for testing"
      ]
    },
    {
      "cell_type": "code",
      "metadata": {
        "id": "CnfYr2uiE5gG"
      },
      "source": [
        "SmallDD_data=data[0:400]\n",
        "SmallDD_dict={'text':SmallDD_data}\n",
        "SmallDD_df=pd.DataFrame(SmallDD_dict)"
      ],
      "execution_count": null,
      "outputs": []
    },
    {
      "cell_type": "markdown",
      "metadata": {
        "id": "YIfeZ1PG-sxj"
      },
      "source": [
        "##  Download as csv"
      ]
    },
    {
      "cell_type": "code",
      "metadata": {
        "id": "GIld12e86W9I"
      },
      "source": [
        "MainDD_pairs.to_csv('DD_pairs.csv')\n",
        "MainDD_history.to_csv('DD_history.csv')\n",
        "MainDD_oneEmo.to_csv('DD_oneEmotion.csv')"
      ],
      "execution_count": null,
      "outputs": []
    },
    {
      "cell_type": "code",
      "metadata": {
        "id": "2FGSKo-iJTsp"
      },
      "source": [
        "MainDD_pairs_shuffled.to_csv('DD_pairs_shuffled.csv')"
      ],
      "execution_count": null,
      "outputs": []
    },
    {
      "cell_type": "markdown",
      "metadata": {
        "id": "aZjSEGrZlVKz"
      },
      "source": [
        "División del dataset en 80% training data y 20% testing data, sin mezclar."
      ]
    },
    {
      "cell_type": "code",
      "metadata": {
        "id": "qTaz3u8R6qHt"
      },
      "source": [
        "train, test = train_test_split(MainDD_df, test_size=0.2, shuffle=False)"
      ],
      "execution_count": null,
      "outputs": []
    },
    {
      "cell_type": "code",
      "metadata": {
        "id": "Vr3Dsof1nFnL"
      },
      "source": [
        "train.index = range(train.shape[0])\n",
        "test.index = range(test.shape[0])"
      ],
      "execution_count": null,
      "outputs": []
    },
    {
      "cell_type": "code",
      "metadata": {
        "id": "P6ZQry316sD3"
      },
      "source": [
        "train.to_csv('ShuffledTrainData.csv', index=False)\n",
        "test.to_csv('ShuffledTestData.csv', index=False)"
      ],
      "execution_count": null,
      "outputs": []
    },
    {
      "cell_type": "markdown",
      "metadata": {
        "id": "cUYxTPUnFUy2"
      },
      "source": [
        "Smaller dataset:"
      ]
    },
    {
      "cell_type": "code",
      "metadata": {
        "id": "ap4R4lY5FTyQ"
      },
      "source": [
        "train_small, test_small = train_test_split(SmallDD_df, test_size=0.2, shuffle=False)"
      ],
      "execution_count": null,
      "outputs": []
    },
    {
      "cell_type": "code",
      "metadata": {
        "id": "edG9-Q2XFTyR"
      },
      "source": [
        "train_small.to_csv('SmallTrainData.csv', index=False)\n",
        "test_small.to_csv('SmallTestData.csv', index=False)"
      ],
      "execution_count": null,
      "outputs": []
    },
    {
      "cell_type": "markdown",
      "metadata": {
        "id": "1S0x5SxtKNyT"
      },
      "source": [
        "# Data augmentation"
      ]
    },
    {
      "cell_type": "markdown",
      "metadata": {
        "id": "6lp0krzOwSDI"
      },
      "source": [
        "Dada la distribución de las etiquetas en DailyDialog y asumiendo que en EmotionLines es similar, se trata de elevar la cantidad de las menos frecuentes a un nivel comparable con el de happiness."
      ]
    },
    {
      "cell_type": "markdown",
      "metadata": {
        "id": "84AS2syTwCao"
      },
      "source": [
        "![image.png](data:image/png;base64,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)"
      ]
    },
    {
      "cell_type": "markdown",
      "metadata": {
        "id": "rnblLfbFwhiT"
      },
      "source": [
        "Para ello se multiplican los inputs que contengan 'surprise', 'sadness' y 'anger' por 10, 'disgust' por 20 y 'fear' por 30."
      ]
    },
    {
      "cell_type": "code",
      "metadata": {
        "id": "oBW0WHc0uRWE"
      },
      "source": [
        "DDMain = pd.read_csv('BuiltData.csv')"
      ],
      "execution_count": null,
      "outputs": []
    },
    {
      "cell_type": "code",
      "metadata": {
        "id": "WtS-sMJO3K-0"
      },
      "source": [
        "del DDMain['Unnamed: 0']"
      ],
      "execution_count": null,
      "outputs": []
    },
    {
      "cell_type": "code",
      "metadata": {
        "id": "CfQY2KIpzlck"
      },
      "source": [
        "max = 0\n",
        "length = len(DDMain)\n",
        "for i in range (0,length-1):\n",
        "  if len(DDMain['text'][i].split()) > max:\n",
        "    max = len(DDMain['text'][i].split())\n",
        "print(max)"
      ],
      "execution_count": null,
      "outputs": []
    },
    {
      "cell_type": "code",
      "metadata": {
        "id": "gNdO-XuizQ2K"
      },
      "source": [
        "train, test = train_test_split(DDMain, test_size=0.15, shuffle=True)"
      ],
      "execution_count": null,
      "outputs": []
    },
    {
      "cell_type": "code",
      "metadata": {
        "id": "hFWABCtk3HOq"
      },
      "source": [
        "train.index = range(train.shape[0])\n",
        "test.index = range(test.shape[0])"
      ],
      "execution_count": null,
      "outputs": []
    },
    {
      "cell_type": "code",
      "metadata": {
        "id": "avcmYP_o1zLk"
      },
      "source": [
        "len(train)"
      ],
      "execution_count": null,
      "outputs": []
    },
    {
      "cell_type": "code",
      "metadata": {
        "id": "M-ci9WiBNuyK"
      },
      "source": [
        "print(len(train[train.text.str.contains(\"happiness\")]))\n",
        "print(len(train[train.text.str.contains(\"surprise\")]))\n",
        "print(len(train[train.text.str.contains(\"sadness\")]))\n",
        "print(len(train[train.text.str.contains(\"anger\")]))\n",
        "print(len(train[train.text.str.contains(\"disgust\")]))\n",
        "print(len(train[train.text.str.contains(\"fear\")]))"
      ],
      "execution_count": null,
      "outputs": []
    },
    {
      "cell_type": "code",
      "metadata": {
        "id": "4hKMcKtXzUXz"
      },
      "source": [
        "replication = []\n",
        "for i in range (0, 3):\n",
        "  replication.extend(train['text'][train.text.str.contains(\"surprise\")])\n",
        "for i in range (0, 6):\n",
        "  replication.extend(train['text'][train.text.str.contains(\"sadness\")])\n",
        "  replication.extend(train['text'][train.text.str.contains(\"anger\")])\n",
        "for i in range (0, 8): #18 \n",
        "  replication.extend(train['text'][train.text.str.contains(\"disgust\")])\n",
        "for i in range (0, 10): #24\n",
        "  replication.extend(train['text'][train.text.str.contains(\"fear\")])"
      ],
      "execution_count": null,
      "outputs": []
    },
    {
      "cell_type": "code",
      "metadata": {
        "id": "XlmnhNfL1Gv4"
      },
      "source": [
        "replication_dict = {'text':replication}\n",
        "replication_df = pd.DataFrame(replication_dict)"
      ],
      "execution_count": null,
      "outputs": []
    },
    {
      "cell_type": "code",
      "metadata": {
        "colab": {
          "base_uri": "https://localhost:8080/"
        },
        "id": "uEEUVUvv1vIO",
        "outputId": "90e469fe-037c-4356-fced-225557e83b79"
      },
      "source": [
        "len(replication_df)"
      ],
      "execution_count": null,
      "outputs": [
        {
          "output_type": "execute_result",
          "data": {
            "text/plain": [
              "19258"
            ]
          },
          "metadata": {},
          "execution_count": 10
        }
      ]
    },
    {
      "cell_type": "code",
      "metadata": {
        "colab": {
          "base_uri": "https://localhost:8080/"
        },
        "id": "BaMkZ9hK1HzP",
        "outputId": "e52a4eb9-c0ce-4d3d-b92e-e550d80ea8b9"
      },
      "source": [
        "len(replication_df[replication_df.text.str.contains(\"disgust\")])"
      ],
      "execution_count": null,
      "outputs": [
        {
          "output_type": "execute_result",
          "data": {
            "text/plain": [
              "2299"
            ]
          },
          "metadata": {},
          "execution_count": 11
        }
      ]
    },
    {
      "cell_type": "code",
      "metadata": {
        "id": "Jo0MSTmN0HCu"
      },
      "source": [
        "train_aum = pd.concat([train, replication_df])\n",
        "train_aum = train_aum.sample(frac=1)\n",
        "train_aum.index = range(train_aum.shape[0])"
      ],
      "execution_count": null,
      "outputs": []
    },
    {
      "cell_type": "code",
      "metadata": {
        "id": "cvHY-y_F3Y6X"
      },
      "source": [
        "train_aum.to_csv('DD_pairs_shuffled_aum_train2.csv')\n",
        "test.to_csv('DD_pairs_shuffled_aum_test2.csv')"
      ],
      "execution_count": null,
      "outputs": []
    }
  ]
}